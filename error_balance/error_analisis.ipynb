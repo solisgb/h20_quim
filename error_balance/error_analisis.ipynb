{
 "cells": [
  {
   "cell_type": "markdown",
   "metadata": {},
   "source": [
    "# Cálculo error de análisis químicos almacenados en ipa "
   ]
  },
  {
   "cell_type": "code",
   "execution_count": null,
   "metadata": {},
   "outputs": [],
   "source": [
    "import psycopg2\n",
    "import numpy as np"
   ]
  },
  {
   "cell_type": "code",
   "execution_count": 5,
   "metadata": {},
   "outputs": [],
   "source": [
    "con = psycopg2.connect(\"dbname=ipa user=postgres password=****\")\n",
    "cur = con.cursor()"
   ]
  },
  {
   "cell_type": "markdown",
   "metadata": {},
   "source": [
    "## Columnas de la vista"
   ]
  },
  {
   "cell_type": "code",
   "execution_count": 14,
   "metadata": {},
   "outputs": [],
   "source": [
    "selectv =\\\n",
    "\"\"\"\n",
    "SELECT attname AS column_name, format_type(atttypid, atttypmod) AS data_type\n",
    "FROM pg_attribute\n",
    "WHERE  attrelid = 'quim.w_analisis_mayor_pivot'::regclass\n",
    "ORDER BY attnum;\n",
    "\"\"\""
   ]
  },
  {
   "cell_type": "code",
   "execution_count": 26,
   "metadata": {},
   "outputs": [],
   "source": [
    "cur.execute(selectv)"
   ]
  },
  {
   "cell_type": "code",
   "execution_count": 24,
   "metadata": {},
   "outputs": [
    {
     "name": "stdout",
     "output_type": "stream",
     "text": [
      "('fid', 'character varying')\n",
      "('fecha', 'character varying')\n",
      "('bicarb', 'real')\n",
      "('ca', 'real')\n",
      "('clorur', 'real')\n",
      "('k', 'real')\n",
      "('mg', 'real')\n",
      "('na', 'real')\n",
      "('nitrat', 'real')\n",
      "('sulfat', 'real')\n"
     ]
    }
   ],
   "source": [
    "for i, row in enumerate(cur.fetchall()):\n",
    "    print(row)"
   ]
  },
  {
   "cell_type": "code",
   "execution_count": 27,
   "metadata": {},
   "outputs": [
    {
     "data": {
      "text/plain": [
       "'fid, fecha, bicarb, ca, clorur, k, mg, na, nitrat, sulfat'"
      ]
     },
     "execution_count": 27,
     "metadata": {},
     "output_type": "execute_result"
    }
   ],
   "source": [
    "names = [row[0] for row in cur.fetchall()]\n",
    "header = ', '.join(names)\n",
    "header"
   ]
  },
  {
   "cell_type": "markdown",
   "metadata": {},
   "source": [
    "## Datos"
   ]
  },
  {
   "cell_type": "code",
   "execution_count": 28,
   "metadata": {},
   "outputs": [],
   "source": [
    "select1 = \\\n",
    "\"\"\"\n",
    "select a.*\n",
    "from quim.w_analisis_mayor_pivot a\n",
    "order by a.fid, a.fecha\n",
    "\"\"\""
   ]
  },
  {
   "cell_type": "code",
   "execution_count": 46,
   "metadata": {},
   "outputs": [],
   "source": [
    "cur.execute(select1)"
   ]
  },
  {
   "cell_type": "code",
   "execution_count": 31,
   "metadata": {},
   "outputs": [
    {
     "name": "stdout",
     "output_type": "stream",
     "text": [
      "fid, fecha, bicarb, ca, clorur, k, mg, na, nitrat, sulfat\n",
      "('AB070001', '2007-01-17 16:20:00+01', 318.0, 97.0, 177.0, 2.0, 57.0, 43.0, 17.0, 60.0)\n",
      "('AB070004', '2002-02-28 00:00:00+01', 320.0, 73.0, 19.0, 0.79, 28.0, 9.4, 39.0, 16.0)\n",
      "('AB070004 ', '2019-03-21 11:00:00+01', 319.0, 82.0, 0.0, 0.97, 29.0, 10.0, 40.0, 22.0)\n",
      "('AB070005', '2007-01-16 11:25:00+01', 339.0, 74.0, 26.0, 1.3, 29.0, 16.0, 15.0, 30.0)\n",
      "('AB070005 ', '2019-03-21 13:45:00+01', 328.0, 80.0, 26.0, 1.3, 28.0, 17.0, 11.0, 24.0)\n",
      "('AB070008', '2007-01-17 11:55:00+01', 269.0, 95.0, 114.0, 2.9, 49.0, 62.0, 36.0, 174.0)\n"
     ]
    }
   ],
   "source": [
    "print(header)\n",
    "for i, row in enumerate(cur.fetchall()):\n",
    "    print(row)\n",
    "    if i==5:\n",
    "        break"
   ]
  },
  {
   "cell_type": "code",
   "execution_count": 55,
   "metadata": {},
   "outputs": [],
   "source": [
    "def get_error_analisis(**kwargs):\n",
    "    \"\"\"\n",
    "    devuelve el error en el balance ionico de un analisis de agua\n",
    "    Los argumentos son las concentraciones de los iones en mg/l\n",
    "    los argumentos requeridos son:\n",
    "        aniones: bicarb, clorur, sulfat\n",
    "        cationes: ca, mg, na\n",
    "    los opcionales son: nitrat y k\n",
    "    \"\"\"\n",
    "    aniones = (kwargs['bicarb'], kwargs['clorur'], kwargs['sulfat'], kwargs['nitrat'])\n",
    "    aniones_pe = (61.02, 35.46, 48.03, 62.0)\n",
    "    cationes = (kwargs['ca'], kwargs['mg'], kwargs['na'], kwargs['k'])\n",
    "    cationes_pe = (20.04, 12.16, 22.99, 39.1)\n",
    "\n",
    "    sum_anion = 0.0\n",
    "    for anion, pe in zip(aniones[0:3], aniones_pe[0:3]):\n",
    "        if anion is None or anion < 0.001:\n",
    "            return None\n",
    "        else:\n",
    "            sum_anion += anion / pe\n",
    "\n",
    "    if kwargs['nitrat'] is not None and kwargs['nitrat'] > 0:\n",
    "        sum_anion += kwargs['nitrat'] / aniones_pe[3]\n",
    "    \n",
    "    sum_cation = 0.0\n",
    "    for cation, pe in zip(cationes[0:3], cationes_pe[0:3]):\n",
    "        if cation is None or cation < 0.001:\n",
    "            return None\n",
    "        else:\n",
    "            sum_cation += cation / pe\n",
    " \n",
    "    if kwargs['k'] is not None and kwargs['k'] > 0:\n",
    "        sum_cation += kwargs['k'] / cationes_pe[3]\n",
    "    \n",
    "    return round(100 * abs(sum_anion - sum_cation) / (sum_anion + sum_cation) , 2)                                                     \n"
   ]
  },
  {
   "cell_type": "code",
   "execution_count": 32,
   "metadata": {},
   "outputs": [
    {
     "data": {
      "text/plain": [
       "('bicarb', 'clorur', 'sulfat')"
      ]
     },
     "execution_count": 32,
     "metadata": {},
     "output_type": "execute_result"
    }
   ],
   "source": [
    "aniones = ('bicarb', 'clorur', 'sulfat', 'nitrat')\n",
    "aniones[0:3]"
   ]
  },
  {
   "cell_type": "code",
   "execution_count": 56,
   "metadata": {},
   "outputs": [
    {
     "name": "stdout",
     "output_type": "stream",
     "text": [
      "fid fecha error %\n",
      "('AB070001', '2007-01-17 16:20:00+01') 1.2\n",
      "('AB070004', '2002-02-28 00:00:00+01') 2.8\n",
      "('AB070004 ', '2019-03-21 11:00:00+01') None\n",
      "('AB070005', '2007-01-16 11:25:00+01') 2.5\n",
      "('AB070005 ', '2019-03-21 13:45:00+01') 2.03\n",
      "('AB070008', '2007-01-17 11:55:00+01') 1.22\n",
      "('AB070008 ', '2019-02-06 11:30:00+01') 5.32\n",
      "('AB070010', '2007-01-17 13:25:00+01') 0.42\n",
      "('AB070010 ', '2019-02-11 09:30:00+01') 2.34\n",
      "('AB070013', '2002-02-28 00:00:00+01') 3.31\n",
      "('AB070013 ', '2019-03-12 12:15:00+01') 3.97\n"
     ]
    }
   ],
   "source": [
    "# fid, fecha, bicarb, ca, clorur, k, mg, na, nitrat, sulfat\n",
    "cur.execute(select1)\n",
    "print('fid', 'fecha', 'error %')\n",
    "for i, row in enumerate(cur.fetchall()):\n",
    "    balan = get_error_analisis(bicarb=row[2], ca=row[3], clorur=row[4],\n",
    "                      k=row[5], mg=row[6], na=row[7], nitrat=row[8], sulfat=row[9])\n",
    "    print(row[0:2], balan)\n",
    "    if i == 10:\n",
    "        break\n",
    "    "
   ]
  },
  {
   "cell_type": "code",
   "execution_count": 57,
   "metadata": {},
   "outputs": [
    {
     "name": "stdout",
     "output_type": "stream",
     "text": [
      "['AB070001', '2007-01-17 16:20:00+01', 1.2]\n",
      "['AB070004', '2002-02-28 00:00:00+01', 2.8]\n",
      "['AB070004 ', '2019-03-21 11:00:00+01', None]\n",
      "['AB070005', '2007-01-16 11:25:00+01', 2.5]\n",
      "['AB070005 ', '2019-03-21 13:45:00+01', 2.03]\n",
      "['AB070008', '2007-01-17 11:55:00+01', 1.22]\n"
     ]
    }
   ],
   "source": [
    "cur.execute(select1)\n",
    "items = [[row[0], row[1], get_error_analisis(bicarb=row[2],\n",
    "                                            ca=row[3], clorur=row[4], k=row[5],\n",
    "                                            mg=row[6], na=row[7], nitrat=row[8],\n",
    "                                            sulfat=row[9])] for row in cur.fetchall()]\n",
    "for i, row in enumerate(items):\n",
    "    print(row)\n",
    "    if i == 5:\n",
    "        break\n",
    "    "
   ]
  },
  {
   "cell_type": "code",
   "execution_count": 100,
   "metadata": {},
   "outputs": [
    {
     "data": {
      "image/png": "[encoded data removed]",
      "text/plain": [
       "<Figure size 432x288 with 2 Axes>"
      ]
     },
     "metadata": {
      "needs_background": "light"
     },
     "output_type": "display_data"
    }
   ],
   "source": [
    "import matplotlib.pyplot as plt\n",
    "\n",
    "dst = r'D:\\IGME20\\20211124_calidad_subt_chs\\data\\data2\\histogram_errors.png'\n",
    "\n",
    "results = np.array(items)\n",
    "errors = np.array([item[2] for item in items if item[2] is not None])\n",
    "\n",
    "n_bins = 40\n",
    "\n",
    "fig, axs = plt.subplots(1, 2, tight_layout=True)\n",
    "\n",
    "# We can set the number of bins with the *bins* keyword argument.\n",
    "fig.suptitle('Error balance iónico análisis aguas sub. (pág. web CHS)')\n",
    "(n0, bins0, _) = axs[0].hist(errors, bins=n_bins)\n",
    "plt.setp(axs[0], xlabel='% error', ylabel='Num. análisis')\n",
    "(n1, bins1, _) = axs[1].hist(errors, bins=n_bins, density=True)\n",
    "plt.setp(axs[1], xlabel='% error', ylabel='Núm./Frecuencia')\n",
    "plt.savefig(dst)"
   ]
  },
  {
   "cell_type": "code",
   "execution_count": 98,
   "metadata": {},
   "outputs": [
    {
     "name": "stdout",
     "output_type": "stream",
     "text": [
      "Error, Núm. análisis, Num./Frecuencia\n",
      "1.8,164,18.70\n",
      "3.7,110,12.54\n",
      "5.5,76,8.67\n",
      "7.3,46,5.25\n",
      "9.1,31,3.53\n",
      "10.9,13,1.48\n",
      "12.8,13,1.48\n",
      "14.6,6,0.68\n",
      "16.4,3,0.34\n",
      "18.2,3,0.34\n",
      "20.1,2,0.23\n",
      "21.9,1,0.11\n",
      "23.7,2,0.23\n",
      "25.5,0,0.00\n",
      "27.4,1,0.11\n",
      "29.2,1,0.11\n",
      "31.0,0,0.00\n",
      "32.8,1,0.11\n",
      "34.7,2,0.23\n",
      "36.5,1,0.11\n",
      "38.3,0,0.00\n",
      "40.1,0,0.00\n",
      "41.9,0,0.00\n",
      "43.8,0,0.00\n",
      "45.6,1,0.11\n",
      "47.4,1,0.11\n",
      "49.2,0,0.00\n",
      "51.1,0,0.00\n",
      "52.9,0,0.00\n",
      "54.7,0,0.00\n",
      "56.5,0,0.00\n",
      "58.4,0,0.00\n",
      "60.2,1,0.11\n",
      "62.0,0,0.00\n",
      "63.8,0,0.00\n",
      "65.6,0,0.00\n",
      "67.5,0,0.00\n",
      "69.3,0,0.00\n",
      "71.1,0,0.00\n"
     ]
    }
   ],
   "source": [
    "print('Error,','Núm. análisis,', 'Num./Frecuencia')\n",
    "for row in zip(bins[1:n_bins], n0, n1):\n",
    "    print(f'{row[0]:0.1f},{row[1]:0.0f},{row[2]*100.:0.2f}')"
   ]
  },
  {
   "cell_type": "code",
   "execution_count": 78,
   "metadata": {},
   "outputs": [
    {
     "data": {
      "text/plain": [
       "41"
      ]
     },
     "execution_count": 78,
     "metadata": {},
     "output_type": "execute_result"
    }
   ],
   "source": [
    "len(bins0)"
   ]
  },
  {
   "cell_type": "code",
   "execution_count": 80,
   "metadata": {},
   "outputs": [
    {
     "data": {
      "text/plain": [
       "<BarContainer object of 40 artists>"
      ]
     },
     "execution_count": 80,
     "metadata": {},
     "output_type": "execute_result"
    }
   ],
   "source": [
    "patches0"
   ]
  },
  {
   "cell_type": "code",
   "execution_count": null,
   "metadata": {},
   "outputs": [],
   "source": []
  }
 ],
 "metadata": {
  "kernelspec": {
   "display_name": "Python 3",
   "language": "python",
   "name": "python3"
  },
  "language_info": {
   "codemirror_mode": {
    "name": "ipython",
    "version": 3
   },
   "file_extension": ".py",
   "mimetype": "text/x-python",
   "name": "python",
   "nbconvert_exporter": "python",
   "pygments_lexer": "ipython3",
   "version": "3.8.5"
  }
 },
 "nbformat": 4,
 "nbformat_minor": 4
}
